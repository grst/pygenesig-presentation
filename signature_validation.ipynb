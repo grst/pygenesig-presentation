{
 "cells": [
  {
   "cell_type": "markdown",
   "metadata": {
    "nbpresent": {
     "id": "27106004-9fe9-4d10-93ba-7750c4fd42ab"
    }
   },
   "source": [
    "# *pygenesig* a package for generating, validating and manipulating signatures\n",
    "http://www.gregor-sturm.de/pygenesig/"
   ]
  },
  {
   "cell_type": "markdown",
   "metadata": {},
   "source": [
    "![flow](img/information_flow.svg)"
   ]
  },
  {
   "cell_type": "markdown",
   "metadata": {},
   "source": [
    "## Signature Generators\n",
    "`SignatureGenerator` is an abstract class which can be easily extended to support different signature generation mechanisms\n",
    "* Gini\n",
    "* DEseq2\n",
    "* Rank\n",
    "* ...\n",
    "\n",
    "## Signature Testers\n",
    "-> Implementation of BioQC\n",
    "\n",
    "## pygenesig for manipulating signatures\n",
    "Load gmt files and compute the jaccard index. "
   ]
  },
  {
   "cell_type": "code",
   "execution_count": null,
   "metadata": {
    "collapsed": true
   },
   "outputs": [],
   "source": [
    "from pygenesig.file_formats import *\n",
    "from pygenesig.tools import jaccard_mat\n",
    "import seaborn as sns\n",
    "from pylab import * \n",
    "%matplotlib inline"
   ]
  },
  {
   "cell_type": "code",
   "execution_count": null,
   "metadata": {
    "collapsed": true
   },
   "outputs": [],
   "source": [
    "gtex_v3 = load_gmt(\"data/gtex_v3.gmt\")\n",
    "gtex_v6 = load_gmt(\"data/gtex_v6.gmt\")\n",
    "jm = jaccard_mat(gtex_v3, gtex_v6, as_matrix=True)"
   ]
  },
  {
   "cell_type": "code",
   "execution_count": null,
   "metadata": {
    "collapsed": false
   },
   "outputs": [],
   "source": [
    "fig, ax = subplots(figsize=(15, 10))\n",
    "sns.heatmap(jm, ax=ax, linewidths=.2)"
   ]
  },
  {
   "cell_type": "markdown",
   "metadata": {
    "nbpresent": {
     "id": "b2e63656-22a7-4b7d-9dec-a0ef973de784"
    }
   },
   "source": [
    "# Signature Validation Pipeline"
   ]
  },
  {
   "cell_type": "markdown",
   "metadata": {},
   "source": [
    "## Input data"
   ]
  },
  {
   "cell_type": "code",
   "execution_count": null,
   "metadata": {
    "collapsed": false
   },
   "outputs": [],
   "source": [
    "exprs = read_expr('/pstore/home/sturmg/projects/gtex-signatures/data_processed/v3/exprs_processed.npy')\n",
    "exprs"
   ]
  },
  {
   "cell_type": "code",
   "execution_count": null,
   "metadata": {
    "collapsed": false
   },
   "outputs": [],
   "source": [
    "!head /pstore/home/sturmg/projects/gtex-signatures/data_processed/v3/target.csv"
   ]
  },
  {
   "cell_type": "code",
   "execution_count": null,
   "metadata": {
    "collapsed": false
   },
   "outputs": [],
   "source": [
    "!head /pstore/home/sturmg/projects/gtex-signatures/data_processed/v3/rosetta_processed.csv"
   ]
  },
  {
   "cell_type": "markdown",
   "metadata": {},
   "source": [
    "## Configuration file\n",
    "**`config.py`**"
   ]
  },
  {
   "cell_type": "code",
   "execution_count": null,
   "metadata": {
    "collapsed": false,
    "scrolled": true
   },
   "outputs": [],
   "source": [
    "!cat data/gtexv3_config.py"
   ]
  },
  {
   "cell_type": "code",
   "execution_count": null,
   "metadata": {
    "collapsed": false
   },
   "outputs": [],
   "source": [
    "!validation crossvalidation data/gtexv3_config.py"
   ]
  },
  {
   "cell_type": "markdown",
   "metadata": {},
   "source": [
    "## Inspect results"
   ]
  },
  {
   "cell_type": "code",
   "execution_count": null,
   "metadata": {
    "collapsed": false
   },
   "outputs": [],
   "source": [
    "!ls results/gtexv3_config/"
   ]
  },
  {
   "cell_type": "markdown",
   "metadata": {},
   "source": [
    "http://rkalbhpc014:8895/2017-03-30_signature_validation/results/gtexv3_config/"
   ]
  },
  {
   "cell_type": "markdown",
   "metadata": {
    "nbpresent": {
     "id": "70fa03e8-8787-457a-8910-7dda2db1e5e5"
    },
    "slideshow": {
     "slide_type": "slide"
    }
   },
   "source": [
    "# Applying Signatures to GEO\n",
    "\n",
    "* GMT-file, ExpressionSets -> BioQC -> Scores for each signatures\n",
    "\n",
    "## What data? \n",
    "A subset of 81k samples/2900 studies from human, rat, mouse from GEO, which have \n",
    "* tissue and gene symbol annotated\n",
    "* tissue in list of controlled vocabulary\n",
    "* housekeeping genes expressed\n",
    "\n",
    "Details at http://www.gregor-sturm.de/BioQC_GEO_analysis/sample-selection.html"
   ]
  },
  {
   "cell_type": "markdown",
   "metadata": {
    "nbpresent": {
     "id": "1043cbe2-22ff-4eb9-96c4-b6d5de6af3b6"
    },
    "slideshow": {
     "slide_type": "subslide"
    }
   },
   "source": [
    "## How to apply to a .gmt file?"
   ]
  },
  {
   "cell_type": "code",
   "execution_count": null,
   "metadata": {
    "collapsed": false,
    "nbpresent": {
     "id": "50528922-1416-443c-9374-d9f047ece79d"
    },
    "slideshow": {
     "slide_type": "fragment"
    }
   },
   "outputs": [],
   "source": [
    "!validation run_bioqc results/gtexv3_config/signatures.gmt"
   ]
  },
  {
   "cell_type": "code",
   "execution_count": null,
   "metadata": {
    "collapsed": false,
    "nbpresent": {
     "id": "adb424bc-2146-404f-b2ae-7107bb23dfbf"
    },
    "slideshow": {
     "slide_type": "fragment"
    }
   },
   "outputs": [],
   "source": [
    "!validation merge_bioqc  results/gtexv3_config/signatures_bioqc"
   ]
  },
  {
   "cell_type": "code",
   "execution_count": null,
   "metadata": {
    "collapsed": false
   },
   "outputs": [],
   "source": [
    "!ls results/gtexv3_config/"
   ]
  },
  {
   "cell_type": "markdown",
   "metadata": {},
   "source": [
    "## Exploring BioQC results in Shiny App\n",
    "Copy the result file to the shiny data directory: "
   ]
  },
  {
   "cell_type": "code",
   "execution_count": null,
   "metadata": {
    "collapsed": true
   },
   "outputs": [],
   "source": [
    "!cp results/gtexv3_config/signatures_bioqc.uniq.tsv \\\n",
    "/pstore/data/bioinfo/users/sturmg/gmt_geo_query/bioqc_res/gtexv3_presentation.uniq.tsv"
   ]
  },
  {
   "cell_type": "markdown",
   "metadata": {},
   "source": [
    "### Server at: \n",
    "http://shiny-server.marathon.bahpc.roche.com:3015/users/sturmg/gmtquery/"
   ]
  }
 ],
 "metadata": {
  "kernelspec": {
   "display_name": "Python [Root]",
   "language": "python",
   "name": "Python [Root]"
  },
  "language_info": {
   "codemirror_mode": {
    "name": "ipython",
    "version": 3
   },
   "file_extension": ".py",
   "mimetype": "text/x-python",
   "name": "python",
   "nbconvert_exporter": "python",
   "pygments_lexer": "ipython3",
   "version": "3.5.2"
  },
  "nbpresent": {
   "slides": {
    "63d494df-1c67-4986-b213-845164e9176c": {
     "id": "63d494df-1c67-4986-b213-845164e9176c",
     "prev": "6d385027-ef8f-49af-bd7d-2beebe49809b",
     "regions": {
      "4878a796-913a-41c7-9931-c71685e539b1": {
       "attrs": {
        "height": 0.4,
        "width": 0.8,
        "x": 0.1,
        "y": 0.5
       },
       "content": {
        "cell": "d0e65f37-7302-48a1-9109-ca5e638e5cb0",
        "part": "whole"
       },
       "id": "4878a796-913a-41c7-9931-c71685e539b1"
      },
      "7fe558ea-4abd-48ef-8847-6fa2862d4427": {
       "attrs": {
        "height": 0.8,
        "width": 0.8,
        "x": 0.1,
        "y": 0.1
       },
       "content": {
        "cell": "1043cbe2-22ff-4eb9-96c4-b6d5de6af3b6",
        "part": "whole"
       },
       "id": "7fe558ea-4abd-48ef-8847-6fa2862d4427"
      },
      "bd2c95b5-6aa9-456a-80fa-1ba7ba9c3fa0": {
       "attrs": {
        "height": 0.4,
        "width": 0.8,
        "x": 0.1,
        "y": 0.5
       },
       "content": {
        "cell": "50528922-1416-443c-9374-d9f047ece79d",
        "part": "whole"
       },
       "id": "bd2c95b5-6aa9-456a-80fa-1ba7ba9c3fa0"
      },
      "fee7523e-7118-4b0d-8b8a-19ffdbc8dcdd": {
       "attrs": {
        "height": 0.4,
        "width": 0.8,
        "x": 0.1,
        "y": 0.5
       },
       "content": {
        "cell": "adb424bc-2146-404f-b2ae-7107bb23dfbf",
        "part": "whole"
       },
       "id": "fee7523e-7118-4b0d-8b8a-19ffdbc8dcdd"
      }
     }
    },
    "6d385027-ef8f-49af-bd7d-2beebe49809b": {
     "id": "6d385027-ef8f-49af-bd7d-2beebe49809b",
     "prev": "e909cbb4-046d-49c4-b9ad-7382900de8c1",
     "regions": {
      "bc316d6d-3907-4ab5-8fc5-28efab7273ae": {
       "attrs": {
        "height": 0.8,
        "width": 0.8,
        "x": 0.1,
        "y": 0.1
       },
       "content": {
        "cell": "70fa03e8-8787-457a-8910-7dda2db1e5e5",
        "part": "whole"
       },
       "id": "bc316d6d-3907-4ab5-8fc5-28efab7273ae"
      }
     }
    },
    "e909cbb4-046d-49c4-b9ad-7382900de8c1": {
     "id": "e909cbb4-046d-49c4-b9ad-7382900de8c1",
     "prev": null,
     "regions": {
      "395f7248-8a6e-41b4-b9ac-3d3ac47ef728": {
       "attrs": {
        "height": 0.8,
        "width": 0.8,
        "x": 0.1,
        "y": 0.1
       },
       "content": {
        "cell": "27106004-9fe9-4d10-93ba-7750c4fd42ab",
        "part": "whole"
       },
       "id": "395f7248-8a6e-41b4-b9ac-3d3ac47ef728"
      },
      "af83037b-89e1-4831-97e1-3501a15a5a84": {
       "attrs": {
        "height": 0.4,
        "width": 0.8,
        "x": 0.1,
        "y": 0.5
       },
       "content": {
        "cell": "b2e63656-22a7-4b7d-9dec-a0ef973de784",
        "part": "whole"
       },
       "id": "af83037b-89e1-4831-97e1-3501a15a5a84"
      }
     }
    }
   },
   "themes": {}
  }
 },
 "nbformat": 4,
 "nbformat_minor": 0
}
